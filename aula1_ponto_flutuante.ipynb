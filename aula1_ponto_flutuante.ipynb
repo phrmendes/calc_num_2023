{
 "cells": [
  {
   "cell_type": "markdown",
   "metadata": {
    "id": "hoLbiBRsjd2M"
   },
   "source": [
    "# Ponto Flutuante\n",
    "\n",
    "- Números são representados com **precisão finita**\n",
    "- Representação é **binária**, então mesmo decimais exatos não são representados exatamente\n",
    "\n",
    "Python (e `numpy`) usa por padrão precisão dupla (*double*), de 64 bits. Isto é suficiente pra grande maioria das aplicações. Isto não quer dizer que não podemos ter problemas!"
   ]
  },
  {
   "cell_type": "markdown",
   "metadata": {
    "id": "VKSY1lWlWukE"
   },
   "source": [
    "## Comparações perigosas\n",
    "\n",
    "Quando você escreve um número decimal como `0.1`, Python, e muitas outras linguagens vão mostrar esse número como \"0.1\", mas internamente a coisa não é tão simples, pois 0.1 não tem representação exata em binário."
   ]
  },
  {
   "cell_type": "code",
   "execution_count": 1,
   "metadata": {
    "id": "MfloWWdpX6tN"
   },
   "outputs": [
    {
     "name": "stdout",
     "output_type": "stream",
     "text": [
      "0.1\n",
      "0.1000000000\n",
      "0.10000000000000000555\n"
     ]
    }
   ],
   "source": [
    "x = 0.1\n",
    "print(x)\n",
    "print(f\"{x:.10f}\")\n",
    "print(f\"{x:.20f}\")"
   ]
  },
  {
   "cell_type": "code",
   "execution_count": 2,
   "metadata": {
    "id": "tbxEii2RVlL-"
   },
   "outputs": [
    {
     "name": "stdout",
     "output_type": "stream",
     "text": [
      "False\n",
      "True\n"
     ]
    }
   ],
   "source": [
    "print(0.1 + 0.1 + 0.1 == 0.3)\n",
    "print(0.5 + 0.5 + 0.5 == 1.5)"
   ]
  },
  {
   "cell_type": "code",
   "execution_count": 3,
   "metadata": {
    "id": "lElN0L97a_Hh"
   },
   "outputs": [
    {
     "name": "stdout",
     "output_type": "stream",
     "text": [
      "5.551115123125783e-17\n",
      "0.0\n"
     ]
    }
   ],
   "source": [
    "print(0.1 + 0.1 + 0.1 - 0.3)\n",
    "print(0.5 + 0.5 + 0.5 - 1.5)"
   ]
  },
  {
   "cell_type": "markdown",
   "metadata": {},
   "source": [
    "## Comparações mais seguras"
   ]
  },
  {
   "cell_type": "markdown",
   "metadata": {},
   "source": [
    "Faça a diferença e compare com uma certa tolerância:"
   ]
  },
  {
   "cell_type": "code",
   "execution_count": 4,
   "metadata": {
    "id": "mzzeZMNbJt25"
   },
   "outputs": [
    {
     "name": "stdout",
     "output_type": "stream",
     "text": [
      "True\n"
     ]
    }
   ],
   "source": [
    "tol = 1e-10\n",
    "print(abs(0.1 + 0.1 + 0.1 - 0.3) < tol)"
   ]
  },
  {
   "cell_type": "markdown",
   "metadata": {},
   "source": [
    "Ou arredonde os dois lados depois das operações:"
   ]
  },
  {
   "cell_type": "code",
   "execution_count": 5,
   "metadata": {
    "id": "mzzeZMNbJt25"
   },
   "outputs": [
    {
     "name": "stdout",
     "output_type": "stream",
     "text": [
      "True\n"
     ]
    }
   ],
   "source": [
    "print(round(0.1 + 0.1 + 0.1, 10) == round(0.3, 10))"
   ]
  },
  {
   "cell_type": "markdown",
   "metadata": {
    "id": "zVr-v1gZWmUi"
   },
   "source": [
    "## Olhando pontos flutuantes por dentro\n",
    "\n",
    "O código abaixo converte um ponto flutuante na sua representação interna. Rode (e modifique) os exemplos pra ver o que acontece."
   ]
  },
  {
   "cell_type": "code",
   "execution_count": 6,
   "metadata": {
    "id": "q9N9k4cLjbFZ"
   },
   "outputs": [],
   "source": [
    "from struct import pack\n",
    "\n",
    "def binary(num: float) -> str:\n",
    "    return \"\".join(\"{:0>8b}\".format(c) for c in pack(\"!d\", num))\n",
    "    \n",
    "\n",
    "def print_binary(num: float) -> None:\n",
    "    bin = binary(num)\n",
    "    signal = bin[0]\n",
    "    power = bin[1:12]\n",
    "    mantissa = bin[13:]\n",
    "    print(signal, power, mantissa)"
   ]
  },
  {
   "cell_type": "markdown",
   "metadata": {},
   "source": [
    "Estas funções são usadas para converter um número de ponto flutuante em sua representação binária IEEE 754 e imprimi-la de forma formatada.\n",
    "\n",
    "1. O módulo `struct` do Python fornece funções para interpretar bytes. Ele é usado aqui para converter um número de ponto flutuante em sua representação binária.\n",
    "\n",
    "2. `binary()` recebe um número de ponto flutuante como entrada e retorna sua representação binária IEEE 754 como uma string.\n",
    "\n",
    "    - A função `struct.pack()` empacota o número de ponto flutuante em uma string de bytes de acordo com o formato `!d`, onde `!` indica a ordem dos bytes na rede (big-endian) e `d` indica um número de ponto flutuante de dupla precisão.\n",
    "    - `'{:0>8b}'.format(c) for c in struct.pack('!d', num)`: esta parte itera sobre cada byte na representação empacotada e converte-o para sua representação binária, preenchida com zeros até 8 bits.\n",
    "\n",
    "3. `print_binary()` imprime a representação binária do número de ponto flutuante de forma formatada."
   ]
  },
  {
   "cell_type": "markdown",
   "metadata": {},
   "source": [
    "Algumas potências de 2:"
   ]
  },
  {
   "cell_type": "code",
   "execution_count": 7,
   "metadata": {
    "colab": {
     "base_uri": "https://localhost:8080/"
    },
    "id": "oOcD2bmLZg1w",
    "outputId": "8d5a7ca8-ab56-4f35-9815-07a67b33008f"
   },
   "outputs": [
    {
     "name": "stdout",
     "output_type": "stream",
     "text": [
      "0 01111111110 000000000000000000000000000000000000000000000000000\n",
      "0 01111111111 000000000000000000000000000000000000000000000000000\n",
      "0 10000000000 000000000000000000000000000000000000000000000000000\n",
      "1 10000000000 000000000000000000000000000000000000000000000000000\n"
     ]
    }
   ],
   "source": [
    "print_binary(0.5)\n",
    "print_binary(1.0)\n",
    "print_binary(2.0)\n",
    "print_binary(-2.0)"
   ]
  },
  {
   "cell_type": "markdown",
   "metadata": {
    "colab": {
     "base_uri": "https://localhost:8080/"
    },
    "id": "wQORTQ_xLRgs",
    "outputId": "4442b763-190b-475a-c84b-896aa6e41087"
   },
   "source": [
    "Algumas potências de 10"
   ]
  },
  {
   "cell_type": "code",
   "execution_count": 8,
   "metadata": {},
   "outputs": [
    {
     "name": "stdout",
     "output_type": "stream",
     "text": [
      "0 01111111011 001100110011001100110011001100110011001100110011010\n",
      "0 01111111000 100011110101110000101000111101011100001010001111011\n",
      "1 01111111011 001100110011001100110011001100110011001100110011010\n",
      "0 00000000000 000000000000000000000000000000000000000000000000000\n"
     ]
    }
   ],
   "source": [
    "print_binary(0.1)\n",
    "print_binary(0.01)\n",
    "print_binary(-0.1)\n",
    "print_binary(0.0)"
   ]
  },
  {
   "cell_type": "markdown",
   "metadata": {
    "id": "lY5yGLlgZBic"
   },
   "source": [
    "### Questões\n",
    "\n",
    "- Por que a mantissa das potências de 2 são todas `0`?\n",
    "- Por que as mantissas das potências de 10 parecem ser periódicas?"
   ]
  },
  {
   "cell_type": "markdown",
   "metadata": {
    "id": "2XOJ6YtiD42Z"
   },
   "source": [
    "## Épsilon de máquina\n",
    "\n",
    "O $\\epsilon$ de máquina é definido como o menor valor $\\epsilon$ tal que \n",
    "\n",
    "$$\n",
    "1 + \\epsilon > 1\n",
    "$$\n",
    "\n",
    "pode ser representado.\n",
    "\n",
    "Esse valor define também a precisão usada quando fazemos operações aritméticas. No entanto, se procurarmos o menor $\\epsilon$ tal que\n",
    "\n",
    "$$\n",
    "x + \\epsilon > x\n",
    "$$ \n",
    "\n",
    "o valor de $\\epsilon$ depende de $x$ - lembre-se que com ponto flutuante o *número de dígitos significativos corretos* é limitado.\n",
    "\n",
    "Considere o seguinte programa:\n",
    "\n",
    "```python\n",
    "x = 1.0\n",
    "while x + 1 > x:\n",
    "    x = x + 1\n",
    "```\n",
    "Esse é um loop infinito? Ou o programa para eventualmente? E se para, qual o valor de `x` quando ele termina?"
   ]
  },
  {
   "cell_type": "code",
   "execution_count": 9,
   "metadata": {
    "colab": {
     "base_uri": "https://localhost:8080/"
    },
    "id": "bTFniwVpOZ8q",
    "outputId": "d1c61021-6a6b-4325-ee25-03997dbbd9a5"
   },
   "outputs": [
    {
     "data": {
      "text/plain": [
       "0.0"
      ]
     },
     "execution_count": 9,
     "metadata": {},
     "output_type": "execute_result"
    }
   ],
   "source": [
    "1e16 + 1 - 1e16"
   ]
  },
  {
   "cell_type": "markdown",
   "metadata": {
    "id": "notFByRnyFHi"
   },
   "source": [
    "## Cancelamento catastrófico\n",
    "\n",
    "Subtraindo números muito próximos, perdemos precisão. O exemplo mais famoso é:\n",
    "\n",
    "$$\n",
    "y = \\frac{1 + x - 1}{x}\n",
    "$$\n",
    "\n",
    "com $x \\ll 1$. Calcule *numericamente* $y$ com $x$ variando de $10^{-1}$ até $10^{-16}$ e **plote** o módulo da diferença entre o valor obtido e o valor exato em função de $x$ (este plot fica melhor usando escala logarítmica no eixo $x$)."
   ]
  },
  {
   "cell_type": "code",
   "execution_count": 10,
   "metadata": {
    "id": "uqFAXgjttw5f"
   },
   "outputs": [
    {
     "data": {
      "text/plain": [
       "Text(0, 0.5, 'y')"
      ]
     },
     "execution_count": 10,
     "metadata": {},
     "output_type": "execute_result"
    },
    {
     "data": {
      "image/png": "[encoded data removed]",
      "text/plain": [
       "<Figure size 640x480 with 1 Axes>"
      ]
     },
     "metadata": {},
     "output_type": "display_data"
    }
   ],
   "source": [
    "import numpy as np\n",
    "from matplotlib import pyplot as pt\n",
    "\n",
    "x = np.flip(np.linspace(1e-16, 1e-1, 300))\n",
    "y = np.abs((1 + x - 1) / x)\n",
    "\n",
    "pt.plot(x, y)\n",
    "pt.xscale(\"log\")\n",
    "pt.xlabel(\"log(x)\")\n",
    "pt.ylabel(\"y\")"
   ]
  },
  {
   "cell_type": "markdown",
   "metadata": {
    "id": "NgboVtK5ttHJ"
   },
   "source": [
    "## 5. Cancelamento catastrófico 2\n",
    "\n",
    "Vamos calcular a raiz de um polinômio do segundo grau $$ax^2 + bx + c = 0$$ usando a famosa fórmula $$ x = \\frac{-b \\pm \\sqrt{b^2 - 4ac}}{2a}$$\n",
    "\n",
    "Escreva uma função que recebe $a, b, c$ e retorna uma lista ou vetor com os valores das 2 raízes (o primeiro valor é a raiz maior (+), o segundo a raiz menor)."
   ]
  },
  {
   "cell_type": "code",
   "execution_count": 11,
   "metadata": {
    "id": "XOtPWAnUuVwY"
   },
   "outputs": [],
   "source": [
    "def second_degree_polynomial(a: float, b: float, c: float) -> list[float, float]:\n",
    "    sqrt_delta = np.sqrt(b**2 - 4 * a * c)\n",
    "    x_1 = (- b + sqrt_delta) / 2 * a\n",
    "    x_2 = (- b - sqrt_delta) / 2 * a\n",
    "\n",
    "    return sorted([x_1, x_2], reverse=True)"
   ]
  },
  {
   "cell_type": "markdown",
   "metadata": {
    "id": "vflQivtGuWkh"
   },
   "source": [
    "Agora tente com estes valores, e cheque os resultados (i.e. confira se eles de fato são raízes da equação). Explique o que aconteceu!"
   ]
  },
  {
   "cell_type": "code",
   "execution_count": 12,
   "metadata": {
    "id": "A_MG-JG__6ZO"
   },
   "outputs": [
    {
     "data": {
      "text/plain": [
       "[3162282.660172332, -3162272.6601723325]"
      ]
     },
     "execution_count": 12,
     "metadata": {},
     "output_type": "execute_result"
    }
   ],
   "source": [
    "second_degree_polynomial(1e6, -1e-5, -1e-5)"
   ]
  },
  {
   "cell_type": "code",
   "execution_count": 13,
   "metadata": {},
   "outputs": [
    {
     "data": {
      "text/plain": [
       "[4472140.955002375, -4472130.955002375]"
      ]
     },
     "execution_count": 13,
     "metadata": {},
     "output_type": "execute_result"
    }
   ],
   "source": [
    "second_degree_polynomial(1e6, -1e-5, -2e-5)"
   ]
  },
  {
   "cell_type": "markdown",
   "metadata": {
    "id": "iRwVPwp6B_KG"
   },
   "source": [
    "## Mais erros com operações\n",
    "\n",
    "Dada a sequência definida por\n",
    "\n",
    "$$ x_{n+1} = \\begin{cases}\n",
    "    2 x_n &\\text{ se } x_n \\in [0; \\frac{1}{2}] \\\\\n",
    "    2 x_n - 1 &\\text{ se } x_n \\in (\\frac{1}{2}; 1]\n",
    "    \\end{cases}\n",
    "$$\n",
    "e $x_0 = \\frac{1}{10}$.\n",
    "\n",
    "1. Calcule exatamente (ou seja, **à mão**) os 10 primeiros termos da sequência. O que acontece daí em diante?\n",
    "2. Agora escreva código que calcula e imprime 50 termos da sequência. O que acontece? Por quê?"
   ]
  },
  {
   "cell_type": "markdown",
   "metadata": {},
   "source": [
    "- R(1): Uma dízima periódica.\n",
    "- R(2): Uma dízima periódica que depois converge para 1 devido aos erros das operações."
   ]
  },
  {
   "cell_type": "code",
   "execution_count": null,
   "metadata": {
    "id": "EIc1coKFAKeA"
   },
   "outputs": [],
   "source": [
    "def seq_n(x_0: float, n: "
   ]
  },
  {
   "cell_type": "code",
   "execution_count": null,
   "metadata": {
    "id": "EIc1coKFAKeA"
   },
   "outputs": [],
   "source": [
    "int) -> float:\n",
    "    sequence = [x_0]\n",
    "\n",
    "    for i in range(n):\n",
    "        x = sequence[len(sequence) - 1]\n",
    "        if 0 <= x <= 1 / 2:\n",
    "            sequence.append(2 * x)\n",
    "        elif 1 / 2 < x <= 1:\n",
    "            sequence.append(2 * x - 1)\n",
    "        else:\n",
    "            break\n",
    "\n",
    "    return sequence"
   ]
  },
  {
   "cell_type": "code",
   "execution_count": 15,
   "metadata": {},
   "outputs": [],
   "source": [
    "x = 1 / 10\n",
    "n = 55"
   ]
  },
  {
   "cell_type": "code",
   "execution_count": 16,
   "metadata": {},
   "outputs": [
    {
     "data": {
      "text/plain": [
       "[0.1,\n",
       " 0.2,\n",
       " 0.4,\n",
       " 0.8,\n",
       " 0.6000000000000001,\n",
       " 0.20000000000000018,\n",
       " 0.40000000000000036,\n",
       " 0.8000000000000007,\n",
       " 0.6000000000000014,\n",
       " 0.20000000000000284,\n",
       " 0.4000000000000057,\n",
       " 0.8000000000000114,\n",
       " 0.6000000000000227,\n",
       " 0.20000000000004547,\n",
       " 0.40000000000009095,\n",
       " 0.8000000000001819,\n",
       " 0.6000000000003638,\n",
       " 0.2000000000007276,\n",
       " 0.4000000000014552,\n",
       " 0.8000000000029104,\n",
       " 0.6000000000058208,\n",
       " 0.20000000001164153,\n",
       " 0.40000000002328306,\n",
       " 0.8000000000465661,\n",
       " 0.6000000000931323,\n",
       " 0.20000000018626451,\n",
       " 0.40000000037252903,\n",
       " 0.8000000007450581,\n",
       " 0.6000000014901161,\n",
       " 0.20000000298023224,\n",
       " 0.4000000059604645,\n",
       " 0.800000011920929,\n",
       " 0.6000000238418579,\n",
       " 0.20000004768371582,\n",
       " 0.40000009536743164,\n",
       " 0.8000001907348633,\n",
       " 0.6000003814697266,\n",
       " 0.20000076293945312,\n",
       " 0.40000152587890625,\n",
       " 0.8000030517578125,\n",
       " 0.600006103515625,\n",
       " 0.20001220703125,\n",
       " 0.4000244140625,\n",
       " 0.800048828125,\n",
       " 0.60009765625,\n",
       " 0.2001953125,\n",
       " 0.400390625,\n",
       " 0.80078125,\n",
       " 0.6015625,\n",
       " 0.203125,\n",
       " 0.40625,\n",
       " 0.8125,\n",
       " 0.625,\n",
       " 0.25,\n",
       " 0.5,\n",
       " 1.0]"
      ]
     },
     "execution_count": 16,
     "metadata": {},
     "output_type": "execute_result"
    }
   ],
   "source": [
    "seq_n(x, n)"
   ]
  },
  {
   "cell_type": "markdown",
   "metadata": {
    "id": "SaTfunlKDHtj"
   },
   "source": [
    "## Erros de arredondamento *vs* de truncamento\n",
    "\n",
    "Vamos calcular aproximações para o número $e$ (disponível como `np.e` no `numpy`) usando o limite fundamental:\n",
    "\n",
    "$$ \\lim_{n\\rightarrow \\infty} \\left(1 + \\frac{1}{n}\\right)^n = e$$\n",
    "\n",
    "1. Calcule essa expressão pra valores de $n$ entre 1 e 20, e plote o *erro relativo* do valor obtido em função de $n$. Qual é a razão de não obtermos uma precisão melhor?\n",
    "\n",
    "- R(1): A representação computacional não permite aproximações melhores."
   ]
  },
  {
   "cell_type": "code",
   "execution_count": 17,
   "metadata": {
    "id": "mNFBAtRRFoSb"
   },
   "outputs": [
    {
     "data": {
      "text/plain": [
       "Text(0.5, 0, 'n')"
      ]
     },
     "execution_count": 17,
     "metadata": {},
     "output_type": "execute_result"
    },
    {
     "data": {
      "image/png": "[encoded data removed]",
      "text/plain": [
       "<Figure size 640x480 with 1 Axes>"
      ]
     },
     "metadata": {},
     "output_type": "display_data"
    }
   ],
   "source": [
    "n = np.arange(1, 21)\n",
    "e = (1 + 1 / n) ** n\n",
    "error = np.abs((np.e - e) / e)\n",
    "\n",
    "pt.plot(n, error)\n",
    "pt.ylabel(\"Relative error\")\n",
    "pt.xlabel(\"n\")"
   ]
  },
  {
   "cell_type": "markdown",
   "metadata": {
    "id": "bGZDX1G0FngH"
   },
   "source": [
    "2. Repita o cálculo e o plot, mas agora variando $n$ em potências de 10, de $10^1$ até $10^{16}$ (use escala logarítmica no eixo $x$ para visualizar melhor). O que aconteceu? Por quê?\n",
    "\n",
    "- R(2): Quando $n$ é muito grande, os problemas de precisão numérica começam a dominar, levando a um aumento do erro relativo, apesar do aumento na precisão teórica da expressão."
   ]
  },
  {
   "cell_type": "code",
   "execution_count": 18,
   "metadata": {
    "id": "R-ZVKIG0eXSD"
   },
   "outputs": [
    {
     "data": {
      "text/plain": [
       "Text(0.5, 0, 'n')"
      ]
     },
     "execution_count": 18,
     "metadata": {},
     "output_type": "execute_result"
    },
    {
     "data": {
      "image/png": "[encoded data removed]",
      "text/plain": [
       "<Figure size 640x480 with 1 Axes>"
      ]
     },
     "metadata": {},
     "output_type": "display_data"
    }
   ],
   "source": [
    "n = np.linspace(1e0, 1e16, 100)\n",
    "e = (1 + 1 / n) ** n\n",
    "error = np.abs((np.e - e) / e)\n",
    "\n",
    "pt.plot(n, error)\n",
    "pt.ylabel(\"Relative error\")\n",
    "pt.xlabel(\"n\")"
   ]
  }
 ],
 "metadata": {
  "colab": {
   "provenance": []
  },
  "kernelspec": {
   "display_name": "Python 3 (ipykernel)",
   "language": "python",
   "name": "python3"
  },
  "language_info": {
   "codemirror_mode": {
    "name": "ipython",
    "version": 3
   },
   "file_extension": ".py",
   "mimetype": "text/x-python",
   "name": "python",
   "nbconvert_exporter": "python",
   "pygments_lexer": "ipython3",
   "version": "3.12.1"
  }
 },
 "nbformat": 4,
 "nbformat_minor": 4
}
