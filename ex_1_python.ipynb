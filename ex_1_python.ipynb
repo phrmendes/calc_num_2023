{
  "nbformat": 4,
  "nbformat_minor": 0,
  "metadata": {
    "colab": {
      "provenance": [],
      "toc_visible": true
    },
    "kernelspec": {
      "name": "python3",
      "display_name": "Python 3"
    },
    "language_info": {
      "name": "python"
    }
  },
  "cells": [
    {
      "cell_type": "markdown",
      "metadata": {
        "id": "rCFH9RyaqUMd"
      },
      "source": [
        "## 0. Abrindo e salvando arquivos\n",
        "\n",
        "Ao editar um arquivo no Colaboratory que não é seu e não tem permissão de edição (como os que eu compartilho com vocês), você imediatamente cria uma cópia no seu Drive - não há perigo de editar o arquivo que outras pessoas vão acessar. Ao compartilhar um notebook com alguém, preste atenção se está permitindo leitura ou também edição!\n",
        "\n",
        "Descubra na interface do Colaboratory como salvar o arquivo: no menu \"Arquivo > Fazer download > Fazer download do .ipynb\" e ele deve salvar um arquivo de formato ipynb.\n",
        "\n",
        "Para abrir um arquivo salvo no seu próprio computador, você precisa ter o Jupyter instalado, mas você sempre pode carregá-lo no Colaboratory, indo em \"Arquivo > Fazer upload de notebook\"."
      ]
    },
    {
      "cell_type": "markdown",
      "metadata": {
        "id": "vWWu6StzrdBd"
      },
      "source": [
        "## 1. Triângulos pitagóricos\n",
        "\n",
        "Escreva código que checa se três números, $a$, $b$, e $c$, são lados de um triângulo retângulo, assumindo que $c$ é a hipotenusa. O código deve imprimir \"Verdadeiro\" ou \"Falso\". Teste alguns exemplos."
      ]
    },
    {
      "cell_type": "code",
      "metadata": {
        "id": "JkT52oXor4_8"
      },
      "source": [
        "# a = 3; b = 4; c = 5\n",
        "\n",
        "# a = 2; b = 3; c = 7\n",
        "\n",
        "# a = 5; b = 12; c = 13\n"
      ],
      "execution_count": null,
      "outputs": []
    },
    {
      "cell_type": "markdown",
      "source": [
        "Agora transforme o código que acabou de fazer em uma **função** chamada `checa_pitagoras` que recebe os argumentos `a, b, c` e **retorna** um booleano (`True` ou `False`). Se o seu código estiver correto, a célula de teste abaixo deve rodar corretamente (`assert` é uma  que dá erro caso a expressão não seja verdadeira)."
      ],
      "metadata": {
        "id": "OXpdTpjd6sxA"
      }
    },
    {
      "cell_type": "code",
      "source": [
        "# a \"cara\" da função (sua assinatura) deve ser esta:\n",
        "# substitua os ... por código\n",
        "def checa_pitagoras(a, b, c):\n",
        "    ..."
      ],
      "metadata": {
        "id": "f_6TEnc06_nQ"
      },
      "execution_count": null,
      "outputs": []
    },
    {
      "cell_type": "code",
      "source": [
        "# testes - não editar\n",
        "# se o seu código acima estiver correto, esta célula vai rodar sem erros\n",
        "assert checa_pitagoras(3, 4, 5) == True\n",
        "assert checa_pitagoras(2, 3, 7) == False\n",
        "assert checa_pitagoras(5, 12, 13) == True"
      ],
      "metadata": {
        "id": "wVBy-M1T7a-Z"
      },
      "execution_count": null,
      "outputs": []
    },
    {
      "cell_type": "markdown",
      "metadata": {
        "id": "XwdxlKcOhEhF"
      },
      "source": [
        "## 2. Sequência de Fibonacci\n",
        "\n",
        "Sequência definida por\n",
        "$$x_0 = 0, \\quad x_1 = 1, \\quad x_n = x_{n-1} + x_{n-2}\\  \\forall n\\geq 2$$\n",
        "\n",
        "Calcule os 10 primeiros termos da sequência de Fibonacci, armazenando na lista abaixo."
      ]
    },
    {
      "cell_type": "code",
      "metadata": {
        "id": "XQQc4fEJhQOD"
      },
      "source": [
        "# primeiros termos\n",
        "fibo = [0, 1]\n",
        "\n",
        "# calcula os 8 termos seguintes\n",
        "..."
      ],
      "execution_count": null,
      "outputs": []
    },
    {
      "cell_type": "markdown",
      "metadata": {
        "id": "Dh1-dO1iiSAv"
      },
      "source": [
        "Escreva uma função que recebe um inteiro, $n$, e que retorna a lista dos $n$ primeiros termos da sequência de Fibonacci."
      ]
    },
    {
      "cell_type": "code",
      "metadata": {
        "id": "14m6zLqViLJW"
      },
      "source": [
        "# a função deve ter esta assinatura:\n",
        "def seq_fibo(n):\n",
        "    ...\n",
        "    return fibo\n"
      ],
      "execution_count": null,
      "outputs": []
    },
    {
      "cell_type": "markdown",
      "metadata": {
        "id": "K0KW2FdrtH64"
      },
      "source": [
        "## 3. A menor potência de 10\n",
        "\n",
        "Vimos que números **muito** pequenos não podem ser representados usando ponto flutuante. Qual a menor potência (inteira) de 10 que ainda é maior do que zero? (ou seja, que o ponto flutuante não arredonda pra zero). Escreva código para descobrir."
      ]
    },
    {
      "cell_type": "code",
      "metadata": {
        "id": "OQbjocXjz6Eo"
      },
      "source": [
        "# teste por exemplo:\n",
        "# 10**-100\n",
        "# 10**-1000"
      ],
      "execution_count": null,
      "outputs": []
    },
    {
      "cell_type": "markdown",
      "metadata": {
        "id": "gsA4ItrEz_mm"
      },
      "source": [
        "## 4. Sequência de Collatz\n",
        "\n",
        "A sequência de Collatz é definida para os inteiros positivos pela expressão:\n",
        "\n",
        "$$ x_{n+1} = \\begin{cases}\n",
        "x_n / 2 \\text{ , se } x_n \\text{ é par} \\\\\n",
        "3 x_n + 1 \\text{,  se } x_n \\text{ é ímpar}\n",
        "\\end{cases}$$\n",
        "a partir de um $x_0$ inteiro positivo.\n",
        "\n",
        "A *conjectura de Collatz* (nunca demonstrada!) afirma que esta sequência sempre chega, eventualmente, a 1 (a partir daí, a sequência se repete: $1, 2, 4, 1 \\dots$). Uma coisa que chama a atenção é que, para alguns números, leva muitas iterações para que isso aconteça.\n",
        "\n",
        "Escreva uma função que, dado um número $x_0$, calcula quantas iterações são necessárias para chegar a 1. Note que você não precisa guardar todos os valores ao longo da sequência."
      ]
    },
    {
      "cell_type": "code",
      "metadata": {
        "id": "DZnR95hh1bT6"
      },
      "source": [
        "def collatz(x0):\n",
        "    ...\n",
        "\n",
        "# teste por exemplo com 13:\n",
        "# 13 → 40 → 20 → 10 → 5 → 16 → 8 → 4 → 2 → 1\n",
        "# 9 iterações\n",
        "assert collatz(13) == 9\n"
      ],
      "execution_count": null,
      "outputs": []
    },
    {
      "cell_type": "markdown",
      "source": [
        "\n",
        "Use a sua função para encontrar o número de 1 a 1000 que tem a sequência de Collatz **mais longa**, isto é, que leva mais iterações para chegar no 1."
      ],
      "metadata": {
        "id": "oferhO9ji7Qx"
      }
    },
    {
      "cell_type": "code",
      "source": [
        "# qual o x0 <= 1000 que tem a sequência mais longa?"
      ],
      "metadata": {
        "id": "C5BrzF4di3xy"
      },
      "execution_count": null,
      "outputs": []
    },
    {
      "cell_type": "markdown",
      "metadata": {
        "id": "NZnGC1Sg1can"
      },
      "source": [
        "## 5. Polinômios\n",
        "\n",
        "Escreva uma função que recebe um valor $x$ e calcula o polinômio\n",
        "\n",
        "$$ P(x) = 1 + 2 x - 3x^2 + 4x^3 $$"
      ]
    },
    {
      "cell_type": "code",
      "metadata": {
        "id": "kk0QDWaU1z62"
      },
      "source": [
        "def P(x):\n",
        "    ...\n",
        "\n",
        "# calcula P em alguns valores\n",
        "assert P(1) == 4\n",
        "assert P(-1) == -8\n",
        "assert P(0.1) == 1.174"
      ],
      "execution_count": null,
      "outputs": []
    },
    {
      "cell_type": "markdown",
      "source": [
        "Uma nota: o código do `assert`acima é frágil! Quando trabalhamos com inteiros, as operações aritméticas podem ser feitas de forma exata, mas isso não é verdade com pontos flutuantes - erros de arredondamento são introduzidos mesmo nas operações mais simples!\n",
        "\n",
        "Veja que o código abaixo não funciona, embora 21,406 seja a resposta exata!"
      ],
      "metadata": {
        "id": "ZgR8_64DDakd"
      }
    },
    {
      "cell_type": "code",
      "source": [
        "assert P(1.9) == 21.406"
      ],
      "metadata": {
        "id": "4K3mDD20CVG-"
      },
      "execution_count": null,
      "outputs": []
    },
    {
      "cell_type": "markdown",
      "source": [
        "Uma forma mais segura de fazer a comparação quando lidamos com ponto flutuante é checar se estamos próximos da resposta, dentro de um valor de tolerância bem pequeno:"
      ],
      "metadata": {
        "id": "9yxcZXpvEdg5"
      }
    },
    {
      "cell_type": "code",
      "source": [
        "assert abs(P(1.9) - 21.406) < 1e-14"
      ],
      "metadata": {
        "id": "qNv2D77KEc8M"
      },
      "execution_count": null,
      "outputs": []
    },
    {
      "cell_type": "markdown",
      "metadata": {
        "id": "_uP8i0L110jU"
      },
      "source": [
        "## 6. (desafio) Mais polinômios\n",
        "\n",
        "É natural que queiramos escrever vários polinômios diferentes - precisamos escrever uma nova função pra cada um deles?\n",
        "\n",
        "Pense nesse mesmo polinômio de uma forma mais geral: um polinômio de 3o grau. A forma geral é:\n",
        "\n",
        "$$ P(x) = a_0 + a_1 x + a_2 x^2 + a_3 x^3 $$\n",
        "\n",
        "Escreva uma função que recebe os coeficientes $a_0, \\dots, a_3$, e retorna a **função** que calcula o polinômio. Isso parece estranho, mas é útil em vários contextos! Em Python, uma função é um objeto como outro qualquer, e pode ser retornada por uma função, passada como argumento etc.\n",
        "\n",
        "Use esta função para gerar o polinômio definido anteriormente, e a partir disso calcular os mesmos valores que você obteve acima."
      ]
    },
    {
      "cell_type": "code",
      "metadata": {
        "id": "EtOSREPw2Qyi"
      },
      "source": [
        "# repare que a assinatura de define_P() só recebe os *coeficientes* do polinômio\n",
        "def define_P(a0, a1, a2, a3):\n",
        "    # já a função P recebe apenas o valor de x, em que calcula o polinômio\n",
        "    def P(x):\n",
        "        ...\n",
        "    return P\n",
        "\n",
        "P = define_P(1, 2, -3, 4) # são os mesmos coeficientes do exemplo anterior\n",
        "# calcula P em alguns pontos\n",
        "#assert P(1) == 4\n",
        "#assert P(-1) == -8\n",
        "#assert P(0.1) == 1.174"
      ],
      "execution_count": null,
      "outputs": []
    }
  ]
}