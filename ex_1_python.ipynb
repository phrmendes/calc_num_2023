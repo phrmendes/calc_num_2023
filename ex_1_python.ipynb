{
 "cells": [
  {
   "cell_type": "markdown",
   "metadata": {
    "id": "vWWu6StzrdBd"
   },
   "source": [
    "## 1. Triângulos pitagóricos\n",
    "\n",
    "Escreva uma função que checa se três números, $a$, $b$, e $c$, são lados de um triângulo retângulo, assumindo que $c$ é a hipotenusa. O código deve imprimir \"Verdadeiro\" ou \"Falso\". "
   ]
  },
  {
   "cell_type": "code",
   "execution_count": 1,
   "metadata": {
    "id": "f_6TEnc06_nQ"
   },
   "outputs": [],
   "source": [
    "from src.pitagoras import test_pitagoras\n",
    "\n",
    "tests = {\n",
    "    (3, 4, 5): True,\n",
    "    (2, 3, 4): False,\n",
    "}\n",
    "\n",
    "test_pitagoras(tests)"
   ]
  },
  {
   "cell_type": "markdown",
   "metadata": {
    "id": "XwdxlKcOhEhF"
   },
   "source": [
    "## 2. Sequência de Fibonacci\n",
    "\n",
    "Sequência definida por:\n",
    "\n",
    "$$\n",
    "x_0 = 0,\\ x_1 = 1,\\ x_n = x_{n-1} + x_{n-2},\\ \\forall n \\geq 2\n",
    "$$\n",
    "\n",
    "Escreva uma função que recebe um inteiro, $n$, e que retorna a lista dos $n$ primeiros termos da sequência de Fibonacci."
   ]
  },
  {
   "cell_type": "code",
   "execution_count": 2,
   "metadata": {
    "id": "14m6zLqViLJW"
   },
   "outputs": [
    {
     "data": {
      "text/plain": [
       "[0, 1, 1, 2, 3, 5, 8, 13, 21, 34, 55, 89, 144, 233, 377]"
      ]
     },
     "execution_count": 2,
     "metadata": {},
     "output_type": "execute_result"
    }
   ],
   "source": [
    "from src.fibonacci import n_first_fibonacci\n",
    "\n",
    "n_first_fibonacci(15)"
   ]
  },
  {
   "cell_type": "markdown",
   "metadata": {
    "id": "K0KW2FdrtH64"
   },
   "source": [
    "## 3. A menor potência de 10\n",
    "\n",
    "Vimos que números **muito** pequenos não podem ser representados usando ponto flutuante. Qual a menor potência (inteira) de 10 que ainda é maior do que zero? (Ou seja, que o ponto flutuante não arredonda pra zero). \n",
    "\n",
    "Escreva código para descobrir."
   ]
  },
  {
   "cell_type": "code",
   "execution_count": 3,
   "metadata": {
    "id": "OQbjocXjz6Eo"
   },
   "outputs": [
    {
     "data": {
      "text/plain": [
       "16"
      ]
     },
     "execution_count": 3,
     "metadata": {},
     "output_type": "execute_result"
    }
   ],
   "source": [
    "from src.lowest_power_ten import lowest_power_ten\n",
    "\n",
    "lowest_power_ten()"
   ]
  },
  {
   "cell_type": "markdown",
   "metadata": {
    "id": "gsA4ItrEz_mm"
   },
   "source": [
    "## 4. Sequência de Collatz\n",
    "\n",
    "A sequência de Collatz é definida para os inteiros positivos pela expressão:\n",
    "\n",
    "$$\n",
    "x_{n+1} = \\begin{cases}\n",
    "x_n / 2 \\text{ , se } x_n \\text{ é par} \\\\\n",
    "3 x_n + 1 \\text{,  se } x_n \\text{ é ímpar}\n",
    "\\end{cases}\n",
    "$$\n",
    "\n",
    "a partir de um $x_0$ inteiro positivo.\n",
    "\n",
    "A *conjectura de Collatz* (nunca demonstrada!) afirma que esta sequência sempre chega, eventualmente, a 1 (a partir daí, a sequência se repete: $1, 2, 4, 1 \\dots$). Uma coisa que chama a atenção é que, para alguns números, leva muitas iterações para que isso aconteça.\n",
    "\n",
    "Escreva uma função que, dado um número $x_0$, calcula quantas iterações são necessárias para chegar a 1. Note que você não precisa guardar todos os valores ao longo da sequência."
   ]
  },
  {
   "cell_type": "code",
   "execution_count": 4,
   "metadata": {
    "id": "DZnR95hh1bT6"
   },
   "outputs": [],
   "source": [
    "from src.collatz import test_collatz\n",
    "\n",
    "tests = [\n",
    "    (13, 9),\n",
    "    (10, 6),\n",
    "    (50, 24)\n",
    "]\n",
    "\n",
    "test_collatz(tests)"
   ]
  },
  {
   "cell_type": "markdown",
   "metadata": {
    "id": "oferhO9ji7Qx"
   },
   "source": [
    "\n",
    "Use a sua função para encontrar o número de 1 a 1000 que tem a sequência de Collatz **mais longa**, isto é, que leva mais iterações para chegar no 1."
   ]
  },
  {
   "cell_type": "code",
   "execution_count": 5,
   "metadata": {
    "id": "C5BrzF4di3xy"
   },
   "outputs": [
    {
     "data": {
      "text/plain": [
       "178"
      ]
     },
     "execution_count": 5,
     "metadata": {},
     "output_type": "execute_result"
    }
   ],
   "source": [
    "from src.collatz import collatz\n",
    "\n",
    "seq_collatz = [collatz(i) for i in range(1, 1000)]\n",
    "max(seq_collatz)"
   ]
  },
  {
   "cell_type": "markdown",
   "metadata": {
    "id": "NZnGC1Sg1can"
   },
   "source": [
    "## 5. Polinômios\n",
    "\n",
    "Escreva uma função que recebe um valor $x$ e calcula o polinômio\n",
    "\n",
    "$$\n",
    "P(x) = 1 + 2 x - 3x^2 + 4x^3\n",
    "$$"
   ]
  },
  {
   "cell_type": "code",
   "execution_count": 19,
   "metadata": {
    "id": "kk0QDWaU1z62"
   },
   "outputs": [],
   "source": [
    "from src.polynomials import test_polynomial\n",
    "\n",
    "test_polynomial([1, 2, -3, 4], 1, 4)"
   ]
  },
  {
   "cell_type": "markdown",
   "metadata": {
    "id": "ZgR8_64DDakd"
   },
   "source": [
    "Uma nota: o código do `test_polynomial` acima é frágil! Quando trabalhamos com inteiros, as operações aritméticas podem ser feitas de forma exata, mas isso não é verdade com pontos flutuantes - erros de arredondamento são introduzidos mesmo nas operações mais simples!\n",
    "\n",
    "Veja que o código abaixo não funciona, embora 21,406 seja a resposta exata!"
   ]
  },
  {
   "cell_type": "code",
   "execution_count": 24,
   "metadata": {
    "id": "4K3mDD20CVG-"
   },
   "outputs": [
    {
     "ename": "ValueError",
     "evalue": "Expected to be equal.",
     "output_type": "error",
     "traceback": [
      "\u001b[0;31m---------------------------------------------------------------------------\u001b[0m",
      "\u001b[0;31mValueError\u001b[0m                                Traceback (most recent call last)",
      "Cell \u001b[0;32mIn[24], line 1\u001b[0m\n\u001b[0;32m----> 1\u001b[0m \u001b[43mtest_polynomial\u001b[49m\u001b[43m(\u001b[49m\u001b[43m[\u001b[49m\u001b[38;5;241;43m1\u001b[39;49m\u001b[43m,\u001b[49m\u001b[43m \u001b[49m\u001b[38;5;241;43m2\u001b[39;49m\u001b[43m,\u001b[49m\u001b[43m \u001b[49m\u001b[38;5;241;43m-\u001b[39;49m\u001b[38;5;241;43m3\u001b[39;49m\u001b[43m,\u001b[49m\u001b[43m \u001b[49m\u001b[38;5;241;43m4\u001b[39;49m\u001b[43m]\u001b[49m\u001b[43m,\u001b[49m\u001b[43m \u001b[49m\u001b[38;5;241;43m1.9\u001b[39;49m\u001b[43m,\u001b[49m\u001b[43m \u001b[49m\u001b[38;5;241;43m21.406\u001b[39;49m\u001b[43m)\u001b[49m\n",
      "File \u001b[0;32m~/Projects/calc_num_2023/src/polynomials.py:19\u001b[0m, in \u001b[0;36mtest_polynomial\u001b[0;34m(coefs, x, result)\u001b[0m\n\u001b[1;32m     17\u001b[0m \u001b[38;5;28;01mif\u001b[39;00m p(x) \u001b[38;5;241m!=\u001b[39m result:\n\u001b[1;32m     18\u001b[0m     msg \u001b[38;5;241m=\u001b[39m \u001b[38;5;124m\"\u001b[39m\u001b[38;5;124mExpected to be equal.\u001b[39m\u001b[38;5;124m\"\u001b[39m\n\u001b[0;32m---> 19\u001b[0m     \u001b[38;5;28;01mraise\u001b[39;00m \u001b[38;5;167;01mValueError\u001b[39;00m(msg)\n",
      "\u001b[0;31mValueError\u001b[0m: Expected to be equal."
     ]
    }
   ],
   "source": [
    "test_polynomial([1, 2, -3, 4], 1.9, 21.406)"
   ]
  },
  {
   "cell_type": "markdown",
   "metadata": {
    "id": "9yxcZXpvEdg5"
   },
   "source": [
    "Uma forma mais segura de fazer a comparação quando lidamos com ponto flutuante é checar se estamos próximos da resposta, dentro de um valor de tolerância bem pequeno:"
   ]
  },
  {
   "cell_type": "code",
   "execution_count": 26,
   "metadata": {
    "id": "qNv2D77KEc8M"
   },
   "outputs": [],
   "source": [
    "from src.polynomials import test_polynomial_with_error\n",
    "\n",
    "test_polynomial_with_error([1, 2, -3, 4], 1.9, 21.406, 1)"
   ]
  }
 ],
 "metadata": {
  "colab": {
   "provenance": [],
   "toc_visible": true
  },
  "jupytext": {
   "formats": "ipynb,auto:percent"
  },
  "kernelspec": {
   "display_name": "Python 3 (ipykernel)",
   "language": "python",
   "name": "python3"
  },
  "language_info": {
   "codemirror_mode": {
    "name": "ipython",
    "version": 3
   },
   "file_extension": ".py",
   "mimetype": "text/x-python",
   "name": "python",
   "nbconvert_exporter": "python",
   "pygments_lexer": "ipython3",
   "version": "3.12.1"
  }
 },
 "nbformat": 4,
 "nbformat_minor": 4
}
