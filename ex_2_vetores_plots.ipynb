{
  "nbformat": 4,
  "nbformat_minor": 0,
  "metadata": {
    "colab": {
      "provenance": [],
      "toc_visible": true
    },
    "kernelspec": {
      "name": "python3",
      "display_name": "Python 3"
    },
    "language_info": {
      "name": "python"
    }
  },
  "cells": [
    {
      "cell_type": "markdown",
      "metadata": {
        "id": "kJBw-ayOY8Yz"
      },
      "source": [
        "## 1. Criando vetores\n",
        "\n",
        "Crie os seguintes vetores, com os nomes de variáveis abaixo, **usando `np.arange`**:\n",
        "\n",
        "1. `x1`: todos os inteiros de -10 até 10 (inclusive)\n",
        "2. `x2`: todos os inteiros de 10 até -10 (de trás pra frente!)\n",
        "3. `x3`: todos os inteiros pares de -10 até 10\n",
        "4. `x4`: todos os inteiros ímpares de -10 até 10\n",
        "\n",
        "Nota: todos são possíveis com um único comando!"
      ]
    },
    {
      "cell_type": "code",
      "metadata": {
        "id": "1g2RX8xfY2Z1"
      },
      "source": [
        "import numpy as np\n",
        "\n",
        "x1 = ...\n",
        "x2 = ...\n",
        "x3 = ...\n",
        "x4 = ..."
      ],
      "execution_count": null,
      "outputs": []
    },
    {
      "cell_type": "code",
      "source": [
        "# testes - não editar\n",
        "assert np.all(x1 == np.array([-10,  -9,  -8,  -7,  -6,  -5,  -4,  -3,  -2,  -1,   0,   1,   2,\n",
        "                  3,   4,   5,   6,   7,   8,   9,  10]))\n",
        "assert np.all(x2 == np.array([ 10,   9,   8,   7,   6,   5,   4,   3,   2,   1,   0,  -1,  -2,\n",
        "                 -3,  -4,  -5,  -6,  -7,  -8,  -9, -10]))\n",
        "assert np.all(x3 == np.array([-10,  -8,  -6,  -4,  -2,   0,   2,   4,   6,   8,  10]))\n",
        "assert np.all(x4 == np.array([-9, -7, -5, -3, -1,  1,  3,  5,  7,  9]))"
      ],
      "metadata": {
        "id": "9bhTppLJulvi"
      },
      "execution_count": null,
      "outputs": []
    },
    {
      "cell_type": "markdown",
      "metadata": {
        "id": "rSP4ztOReQO7"
      },
      "source": [
        "## 2. Criando matrizes\n",
        "\n",
        "Usando `np.arange` e outras funções que precisar, crie as matrizes:\n",
        "\n",
        "1. `m1`: uma matriz 4 x 4 com entradas de 1 a 16, na ordem das linhas (ou seja, a primeira linha deve conter $1, 2, 3, 4$)\n",
        "2. `m2`: uma matriz 4 x 4 com entradas de 1 a 16, na ordem das colunas (ou seja, a primeira coluna deve conter $1, 2, 3, 4$)"
      ]
    },
    {
      "cell_type": "code",
      "metadata": {
        "id": "WGRyF9muekd-"
      },
      "source": [
        "m1 = ...\n",
        "m2 = ..."
      ],
      "execution_count": null,
      "outputs": []
    },
    {
      "cell_type": "code",
      "source": [
        "# testes - não editar\n",
        "assert np.all(m1 == np.array([[ 1,  2,  3,  4],\n",
        "       [ 5,  6,  7,  8],\n",
        "       [ 9, 10, 11, 12],\n",
        "       [13, 14, 15, 16]]))\n",
        "assert np.all(m2 == np.array([[ 1,  5,  9, 13],\n",
        "       [ 2,  6, 10, 14],\n",
        "       [ 3,  7, 11, 15],\n",
        "       [ 4,  8, 12, 16]]))"
      ],
      "metadata": {
        "id": "bdwcT2w6vAQk"
      },
      "execution_count": null,
      "outputs": []
    },
    {
      "cell_type": "markdown",
      "metadata": {
        "id": "k2HdYIZ9fNoY"
      },
      "source": [
        "## 3. Recortes de vetores e matrizes\n",
        "\n",
        "Crie novos vetores e matrizes a partir de recortes (*slices*) das variáveis definidas acima.\n",
        "\n",
        "1. `x5`: a partir do vetor `x3`, recorte-o para obter apenas os pares entre -6 e 10 (é fácil criar um novo vetor, mas não é o objetivo).\n",
        "2. `m3`: a partir da matriz `m1`, obtenha uma matriz 4 x 3 excluindo a primeira coluna.\n",
        "3. `m4`: modifique a matriz `m1` para que apenas os 2 blocos 2 x 2 na diagonal principal sejam não-nulos, assim:\n",
        "$$\\begin{bmatrix}\n",
        "X & X & 0 & 0 \\\\\n",
        "X & X & 0 & 0 \\\\\n",
        "0 & 0 & X & X \\\\\n",
        "0 & 0 & X & X\n",
        "\\end{bmatrix}$$\n",
        "4. `m5`: faça o contrário com a matriz `m2`: deixe os blocos 2 x 2 da diagonal principal iguais a 0, e os fora da diagonal com os valores originais.\n"
      ]
    },
    {
      "cell_type": "code",
      "metadata": {
        "id": "2l1VLlhsgtXL"
      },
      "source": [
        "x5 = ...\n",
        "m3 = ...\n",
        "m4 = ...\n",
        "m5 = ..."
      ],
      "execution_count": null,
      "outputs": []
    },
    {
      "cell_type": "code",
      "source": [
        "# testes - não editar\n",
        "assert np.all(x5 == np.array([-6,  -4,  -2,   0,   2,   4,   6,   8,  10]))\n",
        "assert np.all(m3 == np.array([[ 2,  3,  4],\n",
        "       [  6,  7,  8],\n",
        "       [ 10, 11, 12],\n",
        "       [ 14, 15, 16]]))\n",
        "assert np.all(m4 == np.array([[ 1,  2,  0,  0],\n",
        "       [ 5,  6,  0,  0],\n",
        "       [ 0,  0, 11, 12],\n",
        "       [ 0,  0, 15, 16]]))\n",
        "assert np.all(m5 == np.array([[ 0,  0,  9, 13],\n",
        "       [ 0,  0, 10, 14],\n",
        "       [ 3,  7,  0,  0],\n",
        "       [ 4,  8,  0,  0]]))"
      ],
      "metadata": {
        "id": "NukBg38CvrHJ"
      },
      "execution_count": null,
      "outputs": []
    },
    {
      "cell_type": "markdown",
      "metadata": {
        "id": "7OBXhRdDgt7o"
      },
      "source": [
        "## 4. Operações com vetores e matrizes\n",
        "\n",
        "1. Calcule a soma `S` e o produto `P` elemento-a-elemento dos vetores `x1` e `x2`.\n",
        "2. `m6`: a partir da matriz `m1`, some a primeira linha a todas as demais, ou seja, obtenha uma nova matriz 4 x 4 em que as últimas 3 linhas tiveram seu valor acrescido do valor da primeira.\n",
        "3. `x6`: calcule o produto interno da matriz `m1` com o vetor unitário $\\vec{u} = (1, 1, 1, 1)$\n",
        "4. `x7`: calcule o produto interno de $\\vec{u}$ com a matriz `m1` (note a diferença de ordem!)"
      ]
    },
    {
      "cell_type": "code",
      "metadata": {
        "id": "LUS1PQdNkPbY"
      },
      "source": [
        "S = ...\n",
        "P = ...\n",
        "m6 = ...\n",
        "x6 = ...\n",
        "x7 = ..."
      ],
      "execution_count": null,
      "outputs": []
    },
    {
      "cell_type": "code",
      "source": [
        "# testes - não editar\n",
        "assert np.all(S == np.array([0, 0, 0, 0, 0, 0, 0, 0, 0, 0, 0, 0, 0, 0, 0, 0, 0, 0, 0, 0, 0]))\n",
        "assert np.all(P == np.array([-100,  -81,  -64,  -49,  -36,  -25,  -16,   -9,   -4,   -1,    0,\n",
        "         -1,   -4,   -9,  -16,  -25,  -36,  -49,  -64,  -81, -100]))\n",
        "assert np.all(m6 == np.array([[ 1,  2,  3,  4],\n",
        "       [ 6,  8, 10, 12],\n",
        "       [10, 12, 14, 16],\n",
        "       [14, 16, 18, 20]]))\n",
        "assert np.all(x6 == np.array([10, 26, 42, 58]))\n",
        "assert np.all(x7 == np.array([28, 32, 36, 40]))"
      ],
      "metadata": {
        "id": "PJC0jrB8v72g"
      },
      "execution_count": null,
      "outputs": []
    },
    {
      "cell_type": "markdown",
      "metadata": {
        "id": "nl63xG3ykQG-"
      },
      "source": [
        "## 5. Gráficos de funções\n"
      ]
    },
    {
      "cell_type": "markdown",
      "source": [
        "\n",
        "#### 1. Plots de linhas\n",
        "\n",
        "Plote no mesmo gráfico as funções $sen(x), sen(2x), sen(3x)$ no intervalo $[0, 2\\pi]$. Não esqueça de usar cores distintas e colocar legenda!"
      ],
      "metadata": {
        "id": "CZ1KJ2B1vY0H"
      }
    },
    {
      "cell_type": "code",
      "source": [
        "from matplotlib import pyplot as pt\n",
        "\n",
        "..."
      ],
      "metadata": {
        "id": "LIsl78swwgsk"
      },
      "execution_count": null,
      "outputs": []
    },
    {
      "cell_type": "markdown",
      "source": [
        "#### 2. Plot de pontos\n",
        "\n",
        "Dados os vetores\n",
        "```\n",
        "x = np.linspace(1, 10, 10)\n",
        "y = np.array([0.99698446, 1.16973538, 1.37173813, 1.93524802, 2.2885112, 3.47163508, 4.0738169 , 4.24268318, 4.95005955, 5.71806507])\n",
        "```\n",
        "plote os pontos de coordenadas $(x_i, y_i)$ - apenas os pontos, sem linhas."
      ],
      "metadata": {
        "id": "VF0jQ2pKuX60"
      }
    },
    {
      "cell_type": "code",
      "source": [],
      "metadata": {
        "id": "I4oLbpJDwq9T"
      },
      "execution_count": null,
      "outputs": []
    },
    {
      "cell_type": "markdown",
      "source": [
        "### 3. Linhas retas\n",
        "\n",
        "Com os vetores `x` e `y` usados acima, plote, junto com os pontos, uma reta que passe abaixo de todos os pontos, e outra que passe acima de todos os pontos (escolha retas arbitrárias, por exemplo por tentativa e erro - ou tente criar um algoritmo pelo desafio!).\n"
      ],
      "metadata": {
        "id": "PFdf-yG2uccn"
      }
    },
    {
      "cell_type": "code",
      "source": [
        "# comece copiando a solução do exercício anterior\n",
        "\n",
        "# além disso, plote mais duas retas"
      ],
      "metadata": {
        "id": "XAjgm6KbxG5i"
      },
      "execution_count": null,
      "outputs": []
    },
    {
      "cell_type": "markdown",
      "source": [
        "### 4. Escala logarítmica\n",
        "\n",
        "Plote usando escala logarítmica nos dois eixos as funções $f(x)  = x^4$ e $f(x) = x^7$."
      ],
      "metadata": {
        "id": "h9XR0mdWuekX"
      }
    },
    {
      "cell_type": "code",
      "source": [],
      "metadata": {
        "id": "dLJU7iyZxeZp"
      },
      "execution_count": null,
      "outputs": []
    },
    {
      "cell_type": "markdown",
      "source": [
        "### 5. Polinômios de Taylor\n",
        "\n",
        "Plote a função $sen(x)$ junto com os polinômios abaixo no mesmo gráfico, entre $-\\pi$ e $\\pi$:\n",
        "  * $x$\n",
        "  * $x-\\frac{x^3}{6}$\n",
        "  * $x-\\frac{x^3}{6} + \\frac{x^5}{120}$\n",
        "  * $x-\\frac{x^3}{6} + \\frac{x^5}{120} - \\frac{x^7}{5040}$\n",
        "\n",
        "Repare que, quanto maior o grau, mais próximo o polinômio fica da função seno. Na próxima aula veremos como calcular os coeficientes desse polinômio, e por que isso funciona."
      ],
      "metadata": {
        "id": "xQUY2r1svBDS"
      }
    },
    {
      "cell_type": "code",
      "metadata": {
        "id": "YMGcPCr6mn56"
      },
      "source": [],
      "execution_count": null,
      "outputs": []
    }
  ]
}